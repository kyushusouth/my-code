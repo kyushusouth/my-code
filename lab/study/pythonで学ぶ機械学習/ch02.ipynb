{
 "cells": [
  {
   "cell_type": "code",
   "execution_count": 31,
   "metadata": {},
   "outputs": [],
   "source": [
    "import numpy as np\n",
    "import scipy as sp\n",
    "import matplotlib.pyplot as plt"
   ]
  },
  {
   "cell_type": "code",
   "execution_count": 32,
   "metadata": {},
   "outputs": [
    {
     "data": {
      "text/plain": [
       "array([6, 4, 1, 4, 5, 6, 4, 5, 6, 6])"
      ]
     },
     "execution_count": 32,
     "metadata": {},
     "output_type": "execute_result"
    }
   ],
   "source": [
    "# replace=Trueで復元抽出\n",
    "np.random.choice(np.arange(1,7), 10, replace=True)"
   ]
  },
  {
   "cell_type": "code",
   "execution_count": 33,
   "metadata": {},
   "outputs": [
    {
     "data": {
      "text/plain": [
       "array([1, 5, 3, 6, 4, 2])"
      ]
     },
     "execution_count": 33,
     "metadata": {},
     "output_type": "execute_result"
    }
   ],
   "source": [
    "# replace=Falseで非復元抽出\n",
    "np.random.choice(np.arange(1,7), 6, replace=False)"
   ]
  },
  {
   "cell_type": "code",
   "execution_count": 34,
   "metadata": {},
   "outputs": [
    {
     "name": "stdout",
     "output_type": "stream",
     "text": [
      "[[0.99864519 0.452933   0.73847938 0.74806669 0.61103101 0.88822915]]\n",
      "[[0.22505267 0.10207207 0.16642222 0.1685828  0.13770072 0.20016953]]\n"
     ]
    },
    {
     "data": {
      "text/plain": [
       "array([5, 2, 6, 1, 1, 3, 5, 1, 5, 1])"
      ]
     },
     "execution_count": 34,
     "metadata": {},
     "output_type": "execute_result"
    }
   ],
   "source": [
    "# 確率を設定\n",
    "p = np.random.rand(1, 6) \n",
    "print(p)\n",
    "p = p / np.sum(p)\n",
    "print(p)\n",
    "\n",
    "p = p.squeeze(0)\n",
    "np.random.choice(np.arange(1, 7), 10, p=p)"
   ]
  },
  {
   "cell_type": "code",
   "execution_count": 69,
   "metadata": {},
   "outputs": [],
   "source": [
    "mean = 0\n",
    "std = 1\n",
    "size = 10\n",
    "\n",
    "# 正規分布 N(mean, std)\n",
    "a = np.random.normal(mean, std, size)\n",
    "\n",
    "low = 0\n",
    "high = 1\n",
    "\n",
    "# 一様分布 [low, high]\n",
    "b = np.random.uniform(low, high, size)\n",
    "\n",
    "# 標準正規分布\n",
    "c = np.random.randn(size)\n",
    "\n",
    "# 一様分布 [0, 1]\n",
    "d = np.random.rand(size)\n",
    "\n",
    "input = [a, b, c, d]"
   ]
  },
  {
   "cell_type": "code",
   "execution_count": null,
   "metadata": {},
   "outputs": [],
   "source": []
  }
 ],
 "metadata": {
  "interpreter": {
   "hash": "4c46824e6b16a6ff27833fa07a13c1e6ab4fb4daa4a5b0bec23f8bb6c81a58af"
  },
  "kernelspec": {
   "display_name": "Python 3.8.12 ('my_env')",
   "language": "python",
   "name": "python3"
  },
  "language_info": {
   "codemirror_mode": {
    "name": "ipython",
    "version": 3
   },
   "file_extension": ".py",
   "mimetype": "text/x-python",
   "name": "python",
   "nbconvert_exporter": "python",
   "pygments_lexer": "ipython3",
   "version": "3.8.12"
  },
  "orig_nbformat": 4
 },
 "nbformat": 4,
 "nbformat_minor": 2
}
