{
 "cells": [
  {
   "cell_type": "code",
   "execution_count": 57,
   "metadata": {},
   "outputs": [],
   "source": [
    "import numpy as np\n",
    "import matplotlib "
   ]
  },
  {
   "cell_type": "code",
   "execution_count": 58,
   "metadata": {},
   "outputs": [],
   "source": [
    "def AND(x1, x2):\n",
    "    w1, w2, theta = 0.5, 0.5, 0.7\n",
    "    tmp = x1*w1 + x2*w2\n",
    "    if tmp <= theta:\n",
    "        return 0\n",
    "    elif tmp > theta:\n",
    "        return 1\n",
    "    "
   ]
  },
  {
   "cell_type": "code",
   "execution_count": 59,
   "metadata": {},
   "outputs": [
    {
     "name": "stdout",
     "output_type": "stream",
     "text": [
      "0\n",
      "0\n",
      "0\n",
      "1\n"
     ]
    }
   ],
   "source": [
    "print(f\"{AND(0,0)}\")\n",
    "print(f\"{AND(1,0)}\")\n",
    "print(f\"{AND(0,1)}\")\n",
    "print(f\"{AND(1,1)}\")"
   ]
  },
  {
   "cell_type": "code",
   "execution_count": 60,
   "metadata": {},
   "outputs": [],
   "source": [
    "def step_function(x):\n",
    "    y = x > 0\n",
    "    return y.astype(np.int)"
   ]
  },
  {
   "cell_type": "code",
   "execution_count": 61,
   "metadata": {},
   "outputs": [
    {
     "name": "stdout",
     "output_type": "stream",
     "text": [
      "y = [False  True  True]\n",
      "[0 1 1]\n"
     ]
    }
   ],
   "source": [
    "x = np.array([-1.0, 1.0, 2.0])\n",
    "y = x > 0\n",
    "print(f\"y = {y}\")\n",
    "print(y.astype(np.int32))"
   ]
  },
  {
   "cell_type": "code",
   "execution_count": 62,
   "metadata": {},
   "outputs": [],
   "source": [
    "import numpy as np\n",
    "import matplotlib.pyplot as plt"
   ]
  },
  {
   "cell_type": "code",
   "execution_count": 63,
   "metadata": {},
   "outputs": [],
   "source": [
    "def step_function(x):\n",
    "    return np.array(x>0, dtype=np.int16)"
   ]
  },
  {
   "cell_type": "code",
   "execution_count": 64,
   "metadata": {},
   "outputs": [],
   "source": [
    "def sigmoid(x):\n",
    "    return 1 / (1 + np.exp(-x))"
   ]
  },
  {
   "cell_type": "code",
   "execution_count": 65,
   "metadata": {},
   "outputs": [
    {
     "data": {
      "image/png": "[encoded data removed]",
      "text/plain": [
       "<Figure size 432x288 with 1 Axes>"
      ]
     },
     "metadata": {
      "needs_background": "light"
     },
     "output_type": "display_data"
    }
   ],
   "source": [
    "x = np.arange(-5.0, 5.0, 0.1)\n",
    "y = step_function(x)\n",
    "plt.plot(x,y)\n",
    "plt.ylim(-0.1, 1.1)\n",
    "plt.show()"
   ]
  },
  {
   "cell_type": "code",
   "execution_count": 66,
   "metadata": {},
   "outputs": [
    {
     "data": {
      "image/png": "[encoded data removed]",
      "text/plain": [
       "<Figure size 432x288 with 1 Axes>"
      ]
     },
     "metadata": {
      "needs_background": "light"
     },
     "output_type": "display_data"
    }
   ],
   "source": [
    "x = np.arange(-5.0, 5.0, 0.1)\n",
    "y = sigmoid(x)\n",
    "y1 = step_function(x)\n",
    "plt.plot(x,y)\n",
    "plt.plot(x,y1)\n",
    "plt.ylim(-0.1, 1.1)\n",
    "plt.legend([\"sigmoid\", \"step\"])\n",
    "plt.show()"
   ]
  },
  {
   "cell_type": "code",
   "execution_count": 67,
   "metadata": {},
   "outputs": [
    {
     "name": "stdout",
     "output_type": "stream",
     "text": [
      "a = [[0. 0. 0. 0.]\n",
      " [0. 0. 0. 0.]\n",
      " [0. 0. 0. 0.]] \n",
      "\n",
      "b = [[0. 0.]\n",
      " [0. 0.]\n",
      " [0. 0.]\n",
      " [0. 0.]\n",
      " [0. 0.]\n",
      " [0. 0.]] \n",
      "\n"
     ]
    }
   ],
   "source": [
    "a = np.zeros((3,4))\n",
    "print(f\"a = {a} \\n\")\n",
    "b = a.reshape(6,2)\n",
    "print(f\"b = {b} \\n\")"
   ]
  },
  {
   "cell_type": "code",
   "execution_count": 68,
   "metadata": {},
   "outputs": [
    {
     "name": "stdout",
     "output_type": "stream",
     "text": [
      "A = \n",
      "[[1 2]\n",
      " [3 4]]\n",
      "\n",
      "B = \n",
      "[[5 6]\n",
      " [7 8]]\n",
      "\n",
      "C = \n",
      "[[19 22]\n",
      " [43 50]]\n",
      "\n",
      "A*B = \n",
      "[[ 5 12]\n",
      " [21 32]]\n",
      "\n"
     ]
    }
   ],
   "source": [
    "A = np.array([[1,2], [3,4]])\n",
    "B = np.array([[5,6], [7,8]])\n",
    "C = np.dot(A,B)\n",
    "print(f\"A = \\n{A}\\n\")\n",
    "print(f\"B = \\n{B}\\n\")\n",
    "print(f\"C = \\n{C}\\n\")\n",
    "print(f\"A*B = \\n{A*B}\\n\")"
   ]
  },
  {
   "cell_type": "code",
   "execution_count": 69,
   "metadata": {},
   "outputs": [
    {
     "name": "stdout",
     "output_type": "stream",
     "text": [
      "Y = \n",
      "[ 5 11 17]\n",
      "\n"
     ]
    }
   ],
   "source": [
    "X = np.array([1,2])\n",
    "W = np.array([[1,3,5], [2,4,6]])\n",
    "Y = np.dot(X,W)\n",
    "print(f\"Y = \\n{Y}\\n\")"
   ]
  },
  {
   "cell_type": "code",
   "execution_count": 70,
   "metadata": {},
   "outputs": [],
   "source": [
    "def init_network():\n",
    "    network = {}\n",
    "    network['W1'] = np.array([[0.1, 0.3, 0.5], [0.2, 0.3, 0.4]])\n",
    "    network['b1'] = np.array([0.1, 0.2, 0.3])\n",
    "    network['W2'] = np.array([[0.1, 0.4], [0.2, 0.5], [0.3, 0.6]])\n",
    "    network['b2'] = np.array([0.1, 0.2])\n",
    "    network['W3'] = np.array([[0.1, 0.3], [0.2, 0.4]])\n",
    "    network['b3'] = np.array([0.1, 0.2])\n",
    "\n",
    "    return network"
   ]
  },
  {
   "cell_type": "code",
   "execution_count": 71,
   "metadata": {},
   "outputs": [],
   "source": [
    "def forword(network, x):\n",
    "    W1, W2, W3 = network['W1']"
   ]
  },
  {
   "cell_type": "code",
   "execution_count": 72,
   "metadata": {},
   "outputs": [],
   "source": [
    "network = init_network()\n"
   ]
  },
  {
   "cell_type": "code",
   "execution_count": 73,
   "metadata": {},
   "outputs": [],
   "source": [
    "def softmax(a):\n",
    "    c = np.max(a)\n",
    "    exp_a = np.exp(a - c)\n",
    "    sum_exp_a = np.sum(exp_a)\n",
    "    y = exp_a / sum_exp_a\n",
    "    return y"
   ]
  },
  {
   "cell_type": "code",
   "execution_count": 74,
   "metadata": {},
   "outputs": [
    {
     "data": {
      "text/plain": [
       "1.0"
      ]
     },
     "execution_count": 74,
     "metadata": {},
     "output_type": "execute_result"
    }
   ],
   "source": [
    "sum(softmax(np.array([1,2,10])))"
   ]
  },
  {
   "cell_type": "code",
   "execution_count": 75,
   "metadata": {},
   "outputs": [
    {
     "data": {
      "text/plain": [
       "array([1055, 2257,   14, 6632,  812, 2113, 3857, 6318, 1039, 2465])"
      ]
     },
     "execution_count": 75,
     "metadata": {},
     "output_type": "execute_result"
    }
   ],
   "source": [
    "np.random.choice(9000, 10)"
   ]
  },
  {
   "cell_type": "code",
   "execution_count": 76,
   "metadata": {},
   "outputs": [],
   "source": [
    "# 中心差分\n",
    "def numerical_diff(f, x):\n",
    "    h = 1e-4\n",
    "    return (f(x+h) - f(x-h)) / (2*h)"
   ]
  },
  {
   "cell_type": "code",
   "execution_count": 77,
   "metadata": {},
   "outputs": [
    {
     "data": {
      "text/plain": [
       "100"
      ]
     },
     "execution_count": 77,
     "metadata": {},
     "output_type": "execute_result"
    }
   ],
   "source": [
    "lam = lambda x: x**2\n",
    "lam(10)"
   ]
  },
  {
   "cell_type": "code",
   "execution_count": 78,
   "metadata": {},
   "outputs": [
    {
     "data": {
      "text/plain": [
       "0"
      ]
     },
     "execution_count": 78,
     "metadata": {},
     "output_type": "execute_result"
    }
   ],
   "source": [
    "4%2"
   ]
  },
  {
   "cell_type": "code",
   "execution_count": 80,
   "metadata": {},
   "outputs": [
    {
     "name": "stdout",
     "output_type": "stream",
     "text": [
      "[[ 1.  -0.5]\n",
      " [-2.   3. ]]\n"
     ]
    }
   ],
   "source": [
    "x = np.array([[1.0, -0.5], [-2.0, 3.0]])\n",
    "print(x)"
   ]
  },
  {
   "cell_type": "code",
   "execution_count": 85,
   "metadata": {},
   "outputs": [
    {
     "name": "stdout",
     "output_type": "stream",
     "text": [
      "[[False  True]\n",
      " [ True False]]\n"
     ]
    }
   ],
   "source": [
    "mask = (x <= 0)\n",
    "print(mask)"
   ]
  },
  {
   "cell_type": "code",
   "execution_count": 87,
   "metadata": {},
   "outputs": [
    {
     "name": "stdout",
     "output_type": "stream",
     "text": [
      "out = \n",
      "[[1. 0.]\n",
      " [0. 3.]]\n",
      "\n"
     ]
    }
   ],
   "source": [
    "out = x.copy()\n",
    "out[mask] = 0\n",
    "print(f\"out = \\n{out}\\n\")"
   ]
  },
  {
   "cell_type": "code",
   "execution_count": 91,
   "metadata": {},
   "outputs": [
    {
     "name": "stdout",
     "output_type": "stream",
     "text": [
      "[[16.91880507 17.67981304 18.44082102 19.201829  ]\n",
      " [-2.46526087 -4.16698305 -5.86870524 -7.57042742]]\n"
     ]
    }
   ],
   "source": [
    "x = np.random.randn(10).reshape(2,5)\n",
    "y = np.arange(20).reshape(5,4)\n",
    "ans = np.dot(x,y)\n",
    "print(ans)"
   ]
  },
  {
   "cell_type": "code",
   "execution_count": 92,
   "metadata": {},
   "outputs": [],
   "source": [
    "class Sigmoid:\n",
    "    def __init__(self):\n",
    "        self.out = None\n",
    "\n",
    "    def toward(self,x):\n",
    "        out = 1 / (1+np.exp(-x))\n",
    "        self.out = out\n",
    "        return out\n",
    "\n",
    "    def backword(self, dout):\n",
    "        dx = dout * (1.0 - self.out) * self.out\n",
    "        return dx"
   ]
  },
  {
   "cell_type": "code",
   "execution_count": 95,
   "metadata": {},
   "outputs": [
    {
     "name": "stdout",
     "output_type": "stream",
     "text": [
      "x = \n",
      "[[-0.55921931  0.33017541 -0.60644737 -0.33519725 -1.85443013]\n",
      " [-0.4227209  -1.56705141  0.74021305 -1.6807112  -0.29134647]]\n",
      "\n",
      "out = \n",
      "[[0.36372812 0.58180206 0.35287003 0.41697659 0.13535359]\n",
      " [0.39586585 0.17263714 0.67704244 0.15700132 0.42767426]]\n",
      "\n"
     ]
    }
   ],
   "source": [
    "x = np.random.randn(10).reshape(2,5)\n",
    "sig = Sigmoid()\n",
    "print(f\"x = \\n{x}\\n\")\n",
    "out = sig.toward(x)\n",
    "print(f\"out = \\n{out}\\n\")"
   ]
  },
  {
   "cell_type": "code",
   "execution_count": 97,
   "metadata": {},
   "outputs": [
    {
     "data": {
      "text/plain": [
       "(10, 100, 28, 28)"
      ]
     },
     "execution_count": 97,
     "metadata": {},
     "output_type": "execute_result"
    }
   ],
   "source": [
    "x = np.random.rand(10,100,28,28)\n",
    "x.shape"
   ]
  },
  {
   "cell_type": "code",
   "execution_count": 98,
   "metadata": {},
   "outputs": [
    {
     "data": {
      "text/plain": [
       "(100, 28, 28)"
      ]
     },
     "execution_count": 98,
     "metadata": {},
     "output_type": "execute_result"
    }
   ],
   "source": [
    "x[0].shape"
   ]
  },
  {
   "cell_type": "code",
   "execution_count": 99,
   "metadata": {},
   "outputs": [
    {
     "data": {
      "text/plain": [
       "(28, 28)"
      ]
     },
     "execution_count": 99,
     "metadata": {},
     "output_type": "execute_result"
    }
   ],
   "source": [
    "x[0,0].shape"
   ]
  },
  {
   "cell_type": "code",
   "execution_count": 103,
   "metadata": {},
   "outputs": [
    {
     "data": {
      "text/plain": [
       "(10, 28, 100, 28)"
      ]
     },
     "execution_count": 103,
     "metadata": {},
     "output_type": "execute_result"
    }
   ],
   "source": [
    "y = x.transpose(0,2,1,3)\n",
    "y.shape"
   ]
  },
  {
   "cell_type": "code",
   "execution_count": 104,
   "metadata": {},
   "outputs": [
    {
     "name": "stdout",
     "output_type": "stream",
     "text": [
      "(10, 3, 4, 10)\n"
     ]
    }
   ],
   "source": [
    "x = np.random.randn(10,3,4,10)\n",
    "print(x.shape)"
   ]
  },
  {
   "cell_type": "code",
   "execution_count": 106,
   "metadata": {},
   "outputs": [
    {
     "name": "stdout",
     "output_type": "stream",
     "text": [
      "(10, 120)\n"
     ]
    }
   ],
   "source": [
    "print(x.reshape(10,-1).shape)"
   ]
  },
  {
   "cell_type": "code",
   "execution_count": 109,
   "metadata": {},
   "outputs": [
    {
     "name": "stdout",
     "output_type": "stream",
     "text": [
      "(10, 4, 10, 3)\n",
      "(10, 3, 10, 4)\n"
     ]
    }
   ],
   "source": [
    "y = x.reshape(10,-1)\n",
    "z = y.reshape(10, 4, 10, -1)\n",
    "print(z.shape)\n",
    "a = z.transpose(0,3,2,1)\n",
    "print(a.shape)"
   ]
  },
  {
   "cell_type": "code",
   "execution_count": 117,
   "metadata": {},
   "outputs": [
    {
     "name": "stdout",
     "output_type": "stream",
     "text": [
      "out = \n",
      "(10, 4)\n",
      "\n",
      "(8, 5)\n",
      "(5, 8)\n"
     ]
    }
   ],
   "source": [
    "x = np.random.randn(10,5)\n",
    "W = np.random.randn(5,4)\n",
    "b = np.ones(4)\n",
    "out = np.dot(x,W) + b\n",
    "print(f\"out = \\n{out.shape}\\n\")\n",
    "print(out.reshape(8,-1).shape)\n",
    "print(out.transpose().reshape(5,-1).shape)"
   ]
  },
  {
   "cell_type": "code",
   "execution_count": 124,
   "metadata": {},
   "outputs": [],
   "source": [
    "class Sigmoid:\n",
    "    def __init__(self):\n",
    "        self.out = None\n",
    "    \n",
    "    def forward(self,x):\n",
    "        return 1 / (1 + np.exp(-x))"
   ]
  },
  {
   "cell_type": "code",
   "execution_count": 133,
   "metadata": {},
   "outputs": [
    {
     "data": {
      "text/plain": [
       "[<matplotlib.lines.Line2D at 0x11fef0910>]"
      ]
     },
     "execution_count": 133,
     "metadata": {},
     "output_type": "execute_result"
    },
    {
     "data": {
      "image/png": "[encoded data removed]",
      "text/plain": [
       "<Figure size 432x288 with 1 Axes>"
      ]
     },
     "metadata": {
      "needs_background": "light"
     },
     "output_type": "display_data"
    }
   ],
   "source": [
    "sig = Sigmoid()\n",
    "x = np.arange(-10, 10, 0.1).reshape(2,-1)\n",
    "# x = 0.1\n",
    "# print(x.shape)\n",
    "ans = sig.forward(x)\n",
    "# print(ans)\n",
    "\n",
    "import matplotlib.pyplot as plt\n",
    "plt.plot(x.reshape(-1), ans.reshape(-1))"
   ]
  },
  {
   "cell_type": "code",
   "execution_count": 141,
   "metadata": {},
   "outputs": [
    {
     "name": "stdout",
     "output_type": "stream",
     "text": [
      "(10, 20)\n",
      "(20, 4)\n",
      "(4,)\n",
      "(4, 2)\n",
      "(2,)\n",
      "\n",
      "(10, 4)\n",
      "(10, 4)\n",
      "(10, 2)\n",
      "(10, 2)\n"
     ]
    }
   ],
   "source": [
    "import numpy as np\n",
    "x = np.arange(-100, 100, 1).reshape(10, -1)\n",
    "w1 = np.random.randn(x.shape[-1], 4)\n",
    "b1 = np.random.randn(w1.shape[-1])\n",
    "w2 = np.random.randn(w1.shape[-1], 2)\n",
    "b2 = np.random.randn(w2.shape[-1])\n",
    "sig = Sigmoid()\n",
    "\n",
    "affin1 = np.dot(x, w1) + b1\n",
    "sig_out1 = sig.forward(affin1)\n",
    "affin2 = np.dot(sig_out1, w2) + b2\n",
    "sig_out2 = sig.forward(affin2)\n",
    "\n",
    "print(x.shape)\n",
    "print(w1.shape)\n",
    "print(b1.shape)\n",
    "print(w2.shape)\n",
    "print(b2.shape)\n",
    "print(\"\")\n",
    "print(affin1.shape)\n",
    "print(sig_out1.shape)\n",
    "print(affin2.shape)\n",
    "print(sig_out2.shape)"
   ]
  },
  {
   "cell_type": "code",
   "execution_count": 147,
   "metadata": {},
   "outputs": [
    {
     "name": "stdout",
     "output_type": "stream",
     "text": [
      "[0, 1, 1, 2, 2, 3, 3, 4, 4, 5, 5, 6, 6, 7, 7, 8, 8, 9, 9, 10]\n"
     ]
    }
   ],
   "source": [
    "x = []\n",
    "\n",
    "for i in range(10):\n",
    "    param = [i, i+1]\n",
    "    x += param\n",
    "\n",
    "print(x)"
   ]
  },
  {
   "cell_type": "code",
   "execution_count": 148,
   "metadata": {},
   "outputs": [
    {
     "name": "stdout",
     "output_type": "stream",
     "text": [
      "\n",
      " parameter = \n",
      "[array([[ 0.76978416,  0.66836444, -1.156092  ,  1.31358385],\n",
      "       [ 1.48166518,  0.9254683 , -0.92262858,  0.162092  ]]), array([-0.31424008, -0.6951336 , -0.68539018,  0.4389849 ]), array([[ 0.98723262,  0.06518477, -0.99994993],\n",
      "       [-0.17580839, -0.76621826,  0.36515108],\n",
      "       [ 0.6456489 ,  0.22722588, -1.06080069],\n",
      "       [-0.01825458, -0.24656399,  1.30820859]]), array([ 0.46069742,  0.3792376 , -1.94891199])]\n",
      "\n",
      "[2, 4, 4, 3]\n"
     ]
    }
   ],
   "source": [
    "# coding: utf-8\n",
    "import numpy as np\n",
    "\n",
    "\n",
    "class Sigmoid:\n",
    "    def __init__(self):\n",
    "        self.params = []\n",
    "\n",
    "    def forward(self, x):\n",
    "        return 1 / (1 + np.exp(-x))\n",
    "\n",
    "\n",
    "class Affine:\n",
    "    def __init__(self, W, b):\n",
    "        self.params = [W, b]\n",
    "\n",
    "    def forward(self, x):\n",
    "        W, b = self.params\n",
    "        out = np.dot(x, W) + b\n",
    "        return out\n",
    "\n",
    "\n",
    "class TwoLayerNet:\n",
    "    def __init__(self, input_size, hidden_size, output_size):\n",
    "        I, H, O = input_size, hidden_size, output_size\n",
    "\n",
    "        # 重みとバイアスの初期化\n",
    "        W1 = np.random.randn(I, H)\n",
    "        b1 = np.random.randn(H)\n",
    "        W2 = np.random.randn(H, O)\n",
    "        b2 = np.random.randn(O)\n",
    "\n",
    "        # レイヤの生成\n",
    "        self.layers = [\n",
    "            Affine(W1, b1),\n",
    "            Sigmoid(),\n",
    "            Affine(W2, b2)\n",
    "        ]\n",
    "\n",
    "        # すべての重みをリストにまとめる\n",
    "        self.params = []\n",
    "        for layer in self.layers:\n",
    "            self.params += layer.params\n",
    "\n",
    "    def predict(self, x):\n",
    "        for layer in self.layers:\n",
    "            x = layer.forward(x)\n",
    "        return x\n",
    "\n",
    "\n",
    "x = np.random.randn(10, 2)\n",
    "model = TwoLayerNet(2, 4, 3)\n",
    "s = model.predict(x)\n",
    "# print(s)\n",
    "print(f\"\\n parameter = \\n{model.params}\\n\")\n",
    "# print(len(model.params))\n",
    "print([len(v) for v in model.params])\n"
   ]
  },
  {
   "cell_type": "code",
   "execution_count": 149,
   "metadata": {},
   "outputs": [
    {
     "data": {
      "text/plain": [
       "[1, 2, 3, 4]"
      ]
     },
     "execution_count": 149,
     "metadata": {},
     "output_type": "execute_result"
    }
   ],
   "source": [
    "a = [1,2]\n",
    "b = [3,4]\n",
    "c = a+b\n",
    "c"
   ]
  },
  {
   "cell_type": "code",
   "execution_count": 151,
   "metadata": {},
   "outputs": [
    {
     "name": "stdout",
     "output_type": "stream",
     "text": [
      "(1, 8)\n",
      "(7, 8)\n"
     ]
    }
   ],
   "source": [
    "D, N = 8, 7\n",
    "x = np.random.randn(1, D)\n",
    "y = np.repeat(x, N, axis=0)\n",
    "print(x.shape)\n",
    "print(y.shape)"
   ]
  },
  {
   "cell_type": "code",
   "execution_count": 157,
   "metadata": {},
   "outputs": [
    {
     "name": "stdout",
     "output_type": "stream",
     "text": [
      "[ 2.2258175  -0.53440677  0.4253871  -0.75730705  0.71871543 -0.27111428\n",
      " -0.58345794]\n",
      "1.2236339783523635\n",
      "1.2236339783523635\n"
     ]
    }
   ],
   "source": [
    "dy = np.random.randn(N, D)\n",
    "dx = np.sum(dy, axis=0, keepdims=True)\n",
    "print(dy[:,0])\n",
    "print(dx[0,0])\n",
    "a = sum(dy[:,0])\n",
    "print(a)"
   ]
  },
  {
   "cell_type": "code",
   "execution_count": 158,
   "metadata": {},
   "outputs": [],
   "source": [
    "a = np.array([1,2,3])\n",
    "b = np.array([4,5,6])\n",
    "a[...] = b"
   ]
  },
  {
   "cell_type": "code",
   "execution_count": 159,
   "metadata": {},
   "outputs": [
    {
     "name": "stdout",
     "output_type": "stream",
     "text": [
      "[ 0.88890614  0.24856448  0.07163026  0.68992829 -0.06036445 -2.86996594\n",
      " -0.66750526  1.2789703  -1.71638508  0.87359794]\n"
     ]
    }
   ],
   "source": [
    "x = np.random.randn(100)\n",
    "x_batch = x[10:20]\n",
    "print(x_batch)"
   ]
  },
  {
   "cell_type": "code",
   "execution_count": 161,
   "metadata": {},
   "outputs": [
    {
     "name": "stdout",
     "output_type": "stream",
     "text": [
      "float64\n"
     ]
    }
   ],
   "source": [
    "a = np.array([1.0, 2.0])\n",
    "print(a.dtype)"
   ]
  },
  {
   "cell_type": "code",
   "execution_count": 162,
   "metadata": {},
   "outputs": [
    {
     "data": {
      "text/plain": [
       "dtype('float32')"
      ]
     },
     "execution_count": 162,
     "metadata": {},
     "output_type": "execute_result"
    }
   ],
   "source": [
    "c = np.random.randn(10,3).astype(np.float32)\n",
    "c.dtype"
   ]
  },
  {
   "cell_type": "code",
   "execution_count": 163,
   "metadata": {},
   "outputs": [
    {
     "data": {
      "text/plain": [
       "'you say goodbye and i say hello .'"
      ]
     },
     "execution_count": 163,
     "metadata": {},
     "output_type": "execute_result"
    }
   ],
   "source": [
    "text = 'You say goodbye and I say hello.'\n",
    "text = text.lower()\n",
    "text = text.replace('.', ' .')\n",
    "text"
   ]
  },
  {
   "cell_type": "code",
   "execution_count": 170,
   "metadata": {},
   "outputs": [
    {
     "data": {
      "text/plain": [
       "['i', 'studied', 'up', 'to', 'page', '65', 'today', '.']"
      ]
     },
     "execution_count": 170,
     "metadata": {},
     "output_type": "execute_result"
    }
   ],
   "source": [
    "words = text.split(' ')\n",
    "words"
   ]
  },
  {
   "cell_type": "code",
   "execution_count": 171,
   "metadata": {},
   "outputs": [],
   "source": [
    "word_to_id = {}\n",
    "id_to_word = {}\n",
    "\n",
    "for word in words:\n",
    "    if word not in word_to_id:\n",
    "        new_id = len(word_to_id)\n",
    "        word_to_id[word] = new_id\n",
    "        id_to_word[new_id] = word"
   ]
  },
  {
   "cell_type": "code",
   "execution_count": 172,
   "metadata": {},
   "outputs": [
    {
     "name": "stdout",
     "output_type": "stream",
     "text": [
      "{0: 'i', 1: 'studied', 2: 'up', 3: 'to', 4: 'page', 5: '65', 6: 'today', 7: '.'}\n",
      "{'i': 0, 'studied': 1, 'up': 2, 'to': 3, 'page': 4, '65': 5, 'today': 6, '.': 7}\n"
     ]
    }
   ],
   "source": [
    "print(id_to_word)\n",
    "print(word_to_id)"
   ]
  },
  {
   "cell_type": "code",
   "execution_count": 173,
   "metadata": {},
   "outputs": [
    {
     "data": {
      "text/plain": [
       "'up'"
      ]
     },
     "execution_count": 173,
     "metadata": {},
     "output_type": "execute_result"
    }
   ],
   "source": [
    "id_to_word[2]"
   ]
  },
  {
   "cell_type": "code",
   "execution_count": 175,
   "metadata": {},
   "outputs": [
    {
     "data": {
      "text/plain": [
       "4"
      ]
     },
     "execution_count": 175,
     "metadata": {},
     "output_type": "execute_result"
    }
   ],
   "source": [
    "word_to_id['page']"
   ]
  },
  {
   "cell_type": "code",
   "execution_count": 169,
   "metadata": {},
   "outputs": [
    {
     "data": {
      "text/plain": [
       "'i studied up to page 65 today .'"
      ]
     },
     "execution_count": 169,
     "metadata": {},
     "output_type": "execute_result"
    }
   ],
   "source": [
    "text = 'I studied up to page 65 today.'\n",
    "text = text.lower()\n",
    "text = text.replace('.', ' .')\n",
    "text"
   ]
  }
 ],
 "metadata": {
  "interpreter": {
   "hash": "4c46824e6b16a6ff27833fa07a13c1e6ab4fb4daa4a5b0bec23f8bb6c81a58af"
  },
  "kernelspec": {
   "display_name": "Python 3.8.12 ('my_env')",
   "language": "python",
   "name": "python3"
  },
  "language_info": {
   "codemirror_mode": {
    "name": "ipython",
    "version": 3
   },
   "file_extension": ".py",
   "mimetype": "text/x-python",
   "name": "python",
   "nbconvert_exporter": "python",
   "pygments_lexer": "ipython3",
   "version": "3.8.12"
  },
  "orig_nbformat": 4
 },
 "nbformat": 4,
 "nbformat_minor": 2
}
